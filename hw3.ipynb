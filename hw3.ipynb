{
 "cells": [
  {
   "cell_type": "code",
   "execution_count": 15,
   "metadata": {
    "collapsed": true
   },
   "outputs": [],
   "source": [
    "def string_to_dict (x):\n",
    "    dic={}\n",
    "    for c in x:\n",
    "        if c in dic:\n",
    "            dic[c]+=1\n",
    "        else:\n",
    "            dic[c]=1\n",
    "    return dic\n",
    "    "
   ]
  },
  {
   "cell_type": "code",
   "execution_count": 16,
   "metadata": {},
   "outputs": [
    {
     "data": {
      "text/plain": [
       "{'e': 1, 'h': 1, 'l': 2, 'o': 1}"
      ]
     },
     "execution_count": 16,
     "metadata": {},
     "output_type": "execute_result"
    }
   ],
   "source": [
    "string_to_dict(x)"
   ]
  },
  {
   "cell_type": "code",
   "execution_count": 37,
   "metadata": {},
   "outputs": [],
   "source": [
    "def is_palindrome(x):\n",
    "    i=0\n",
    "    while i <(int(len(x)/2)):\n",
    "        if(x[i]!=x[len(x)-i-1]):\n",
    "            return False\n",
    "        i+=1\n",
    "    return True"
   ]
  },
  {
   "cell_type": "code",
   "execution_count": 41,
   "metadata": {},
   "outputs": [
    {
     "data": {
      "text/plain": [
       "True"
      ]
     },
     "execution_count": 41,
     "metadata": {},
     "output_type": "execute_result"
    }
   ],
   "source": [
    "is_palindrome('aba')"
   ]
  },
  {
   "cell_type": "code",
   "execution_count": 81,
   "metadata": {},
   "outputs": [],
   "source": [
    "from random import random\n",
    "def gen_n_brackets(n):\n",
    "    open_b=n\n",
    "    close_b=n\n",
    "    y=''\n",
    "    i=0\n",
    "    while i<int(n*2):\n",
    "        if(random()>0.5 and open_b>0):\n",
    "            y+='['\n",
    "            open_b-=1\n",
    "        elif(close_b>0):\n",
    "            y+=']'\n",
    "            close_b-=1\n",
    "        else:\n",
    "            y+='['\n",
    "            open_b-=1\n",
    "        i+=1\n",
    "    return y"
   ]
  },
  {
   "cell_type": "code",
   "execution_count": 63,
   "metadata": {},
   "outputs": [],
   "source": [
    "def is_balanced(w):\n",
    "    open_b=0\n",
    "    close_b=0\n",
    "    i=0\n",
    "    while i<int(len(w)):\n",
    "        if(w[i]=='['):\n",
    "            open_b+=1\n",
    "        elif(w[i]==']'):\n",
    "            close_b+=1\n",
    "        if(close_b>open_b):\n",
    "            return False\n",
    "        i+=1\n",
    "    if(close_b==open_b):\n",
    "        return True\n",
    "    else:\n",
    "        return False"
   ]
  },
  {
   "cell_type": "code",
   "execution_count": 95,
   "metadata": {},
   "outputs": [
    {
     "name": "stdout",
     "output_type": "stream",
     "text": [
      "[]][\n"
     ]
    },
    {
     "data": {
      "text/plain": [
       "False"
      ]
     },
     "execution_count": 95,
     "metadata": {},
     "output_type": "execute_result"
    }
   ],
   "source": [
    "x=gen_n_brackets(2)\n",
    "print(x)\n",
    "is_balanced(x)"
   ]
  }
 ],
 "metadata": {
  "kernelspec": {
   "display_name": "Python 3",
   "language": "python",
   "name": "python3"
  },
  "language_info": {
   "codemirror_mode": {
    "name": "ipython",
    "version": 3
   },
   "file_extension": ".py",
   "mimetype": "text/x-python",
   "name": "python",
   "nbconvert_exporter": "python",
   "pygments_lexer": "ipython3",
   "version": "3.6.1"
  }
 },
 "nbformat": 4,
 "nbformat_minor": 2
}
